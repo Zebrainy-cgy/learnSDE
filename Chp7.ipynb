{
 "cells": [
  {
   "cell_type": "markdown",
   "metadata": {},
   "source": [
    "# Chapter 7 Random Field"
   ]
  },
  {
   "cell_type": "code",
   "execution_count": 1,
   "metadata": {},
   "outputs": [],
   "source": [
    "import numpy as np\n",
    "import matplotlib.pyplot as plt\n",
    "from math import *\n",
    "import scipy"
   ]
  },
  {
   "cell_type": "code",
   "execution_count": null,
   "metadata": {},
   "outputs": [],
   "source": [
    "\n",
    "\n",
    "# BCCB\n",
    "def Circulant_Sample_2d(C_red, n1, n2):\n",
    "    N = n1 * n2\n",
    "    Lam = N * np.fft.ifft2(C_red)\n",
    "    d = np.ravel(np.real(Lam))\n",
    "    d_minus = np.maximum(- d, 0)\n",
    "    if np.max(d_minus > 0):\n",
    "        print(f'rho(D_minus)={np.max(d_minus)}')\n",
    "    xi=np.random.randn(n1,n2) + 1j*np.random.randn(n1,n2)\n",
    "    V=(Lam ** 0.5)*xi\n",
    "    Z = np.fft.fft2(V) / sqrt(N)\n",
    "    X=np.real(Z);    Y=np.imag(Z)\n",
    "    return X, Y\n"
   ]
  }
 ],
 "metadata": {
  "kernelspec": {
   "display_name": "base",
   "language": "python",
   "name": "python3"
  },
  "language_info": {
   "codemirror_mode": {
    "name": "ipython",
    "version": 3
   },
   "file_extension": ".py",
   "mimetype": "text/x-python",
   "name": "python",
   "nbconvert_exporter": "python",
   "pygments_lexer": "ipython3",
   "version": "3.11.7"
  }
 },
 "nbformat": 4,
 "nbformat_minor": 2
}
